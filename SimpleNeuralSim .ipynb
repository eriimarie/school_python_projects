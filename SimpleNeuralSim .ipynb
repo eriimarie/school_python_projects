{
 "cells": [
  {
   "cell_type": "code",
   "execution_count": 1,
   "id": "88abcfbc",
   "metadata": {},
   "outputs": [
    {
     "name": "stderr",
     "output_type": "stream",
     "text": [
      "Warning: no DISPLAY environment variable.\n",
      "--No graphics will be displayed.\n"
     ]
    }
   ],
   "source": [
    "from neuron import h, gui"
   ]
  },
  {
   "cell_type": "code",
   "execution_count": 2,
   "id": "4d3bcdf7",
   "metadata": {},
   "outputs": [],
   "source": [
    "soma = h.Section(name='soma')"
   ]
  },
  {
   "cell_type": "code",
   "execution_count": 3,
   "id": "60c25bae",
   "metadata": {},
   "outputs": [
    {
     "name": "stdout",
     "output_type": "stream",
     "text": [
      "soma { nseg=1  L=100  Ra=35.4\n",
      "\t/*location 0 attached to cell 0*/\n",
      "\t/* First segment only */\n",
      "\tinsert morphology { diam=500}\n",
      "\tinsert capacitance { cm=1}\n",
      "}\n"
     ]
    },
    {
     "data": {
      "text/plain": [
       "1.0"
      ]
     },
     "execution_count": 3,
     "metadata": {},
     "output_type": "execute_result"
    }
   ],
   "source": [
    "h.psection()"
   ]
  },
  {
   "cell_type": "code",
   "execution_count": 4,
   "id": "cbd7e972",
   "metadata": {},
   "outputs": [
    {
     "data": {
      "text/plain": [
       "['L',\n",
       " 'Ra',\n",
       " '__call__',\n",
       " '__class__',\n",
       " '__contains__',\n",
       " '__delattr__',\n",
       " '__dir__',\n",
       " '__doc__',\n",
       " '__eq__',\n",
       " '__format__',\n",
       " '__ge__',\n",
       " '__getattribute__',\n",
       " '__gt__',\n",
       " '__hash__',\n",
       " '__init__',\n",
       " '__init_subclass__',\n",
       " '__iter__',\n",
       " '__le__',\n",
       " '__lt__',\n",
       " '__module__',\n",
       " '__ne__',\n",
       " '__new__',\n",
       " '__reduce__',\n",
       " '__reduce_ex__',\n",
       " '__repr__',\n",
       " '__setattr__',\n",
       " '__sizeof__',\n",
       " '__str__',\n",
       " '__subclasshook__',\n",
       " 'allseg',\n",
       " 'arc3d',\n",
       " 'cell',\n",
       " 'children',\n",
       " 'connect',\n",
       " 'diam3d',\n",
       " 'disconnect',\n",
       " 'has_membrane',\n",
       " 'hname',\n",
       " 'hoc_internal_name',\n",
       " 'insert',\n",
       " 'is_pysec',\n",
       " 'n3d',\n",
       " 'name',\n",
       " 'nseg',\n",
       " 'orientation',\n",
       " 'parentseg',\n",
       " 'psection',\n",
       " 'pt3dadd',\n",
       " 'pt3dchange',\n",
       " 'pt3dclear',\n",
       " 'pt3dinsert',\n",
       " 'pt3dremove',\n",
       " 'pt3dstyle',\n",
       " 'push',\n",
       " 'rallbranch',\n",
       " 'same',\n",
       " 'spine3d',\n",
       " 'subtree',\n",
       " 'trueparentseg',\n",
       " 'uninsert',\n",
       " 'wholetree',\n",
       " 'x3d',\n",
       " 'y3d',\n",
       " 'z3d']"
      ]
     },
     "execution_count": 4,
     "metadata": {},
     "output_type": "execute_result"
    }
   ],
   "source": [
    "dir(soma)"
   ]
  },
  {
   "cell_type": "code",
   "execution_count": 5,
   "id": "634a4f65",
   "metadata": {},
   "outputs": [
    {
     "name": "stdout",
     "output_type": "stream",
     "text": [
      "Help on built-in function connect:\n",
      "\n",
      "connect(...) method of nrn.Section instance\n",
      "    childSection.connect(parentSection, [parentX], [childEnd]) or\n",
      "    childSection.connect(parentSegment, [childEnd])\n",
      "\n"
     ]
    }
   ],
   "source": [
    "help(soma.connect)"
   ]
  },
  {
   "cell_type": "code",
   "execution_count": 6,
   "id": "653596dd",
   "metadata": {},
   "outputs": [
    {
     "data": {
      "text/plain": [
       "soma"
      ]
     },
     "execution_count": 6,
     "metadata": {},
     "output_type": "execute_result"
    }
   ],
   "source": [
    "soma.insert('pas')"
   ]
  },
  {
   "cell_type": "code",
   "execution_count": 7,
   "id": "51f3e968",
   "metadata": {},
   "outputs": [
    {
     "name": "stdout",
     "output_type": "stream",
     "text": [
      "type(soma) = <class 'nrn.Section'>\n",
      "type(soma(0.5)) =<class 'nrn.Segment'>\n"
     ]
    }
   ],
   "source": [
    "print(\"type(soma) = {}\".format(type(soma)))\n",
    "print(\"type(soma(0.5)) ={}\".format(type(soma(0.5))))"
   ]
  },
  {
   "cell_type": "code",
   "execution_count": 8,
   "id": "0a305b8e",
   "metadata": {},
   "outputs": [
    {
     "name": "stdout",
     "output_type": "stream",
     "text": [
      "['__class__', '__delattr__', '__dir__', '__doc__', '__eq__', '__format__', '__ge__', '__getattribute__', '__gt__', '__hash__', '__init__', '__init_subclass__', '__iter__', '__le__', '__lt__', '__module__', '__ne__', '__new__', '__reduce__', '__reduce_ex__', '__repr__', '__setattr__', '__sizeof__', '__str__', '__subclasshook__', 'e', 'g', 'i', 'is_ion', 'name', 'segment']\n"
     ]
    }
   ],
   "source": [
    "mech = soma(0.5).pas\n",
    "print(dir(mech))"
   ]
  },
  {
   "cell_type": "code",
   "execution_count": 9,
   "id": "902efe12",
   "metadata": {},
   "outputs": [
    {
     "name": "stdout",
     "output_type": "stream",
     "text": [
      "0.001\n",
      "0.001\n"
     ]
    }
   ],
   "source": [
    "print(mech.g)\n",
    "print(soma(0.5).pas.g)"
   ]
  },
  {
   "cell_type": "code",
   "execution_count": 10,
   "id": "9913cbee",
   "metadata": {},
   "outputs": [],
   "source": [
    "asyn = h.AlphaSynapse(soma(0.5))"
   ]
  },
  {
   "cell_type": "code",
   "execution_count": 11,
   "id": "876f0c24",
   "metadata": {},
   "outputs": [
    {
     "data": {
      "text/plain": [
       "['__abs__',\n",
       " '__add__',\n",
       " '__bool__',\n",
       " '__call__',\n",
       " '__class__',\n",
       " '__delattr__',\n",
       " '__delitem__',\n",
       " '__dir__',\n",
       " '__doc__',\n",
       " '__eq__',\n",
       " '__format__',\n",
       " '__ge__',\n",
       " '__getattribute__',\n",
       " '__getitem__',\n",
       " '__gt__',\n",
       " '__hash__',\n",
       " '__init__',\n",
       " '__init_subclass__',\n",
       " '__iter__',\n",
       " '__le__',\n",
       " '__len__',\n",
       " '__lt__',\n",
       " '__module__',\n",
       " '__mul__',\n",
       " '__ne__',\n",
       " '__neg__',\n",
       " '__new__',\n",
       " '__next__',\n",
       " '__pos__',\n",
       " '__radd__',\n",
       " '__reduce__',\n",
       " '__reduce_ex__',\n",
       " '__repr__',\n",
       " '__rmul__',\n",
       " '__rsub__',\n",
       " '__rtruediv__',\n",
       " '__setattr__',\n",
       " '__setitem__',\n",
       " '__setstate__',\n",
       " '__sizeof__',\n",
       " '__str__',\n",
       " '__sub__',\n",
       " '__subclasshook__',\n",
       " '__truediv__',\n",
       " 'alpha',\n",
       " 'baseattr',\n",
       " 'e',\n",
       " 'get_loc',\n",
       " 'get_segment',\n",
       " 'gmax',\n",
       " 'has_loc',\n",
       " 'hname',\n",
       " 'hocobjptr',\n",
       " 'i',\n",
       " 'loc',\n",
       " 'onset',\n",
       " 'same',\n",
       " 'tau']"
      ]
     },
     "execution_count": 11,
     "metadata": {},
     "output_type": "execute_result"
    }
   ],
   "source": [
    "dir(asyn)"
   ]
  },
  {
   "cell_type": "code",
   "execution_count": 12,
   "id": "4417873d",
   "metadata": {},
   "outputs": [
    {
     "name": "stdout",
     "output_type": "stream",
     "text": [
      "asyn.e = 0.0\n",
      "asyn.gmax = 0.0\n",
      "asyn.onset = 0.0\n",
      "asyn.tau = 0.1\n"
     ]
    }
   ],
   "source": [
    "print(\"asyn.e = {}\".format(asyn.e))\n",
    "print(\"asyn.gmax = {}\".format(asyn.gmax))\n",
    "print(\"asyn.onset = {}\".format(asyn.onset))\n",
    "print(\"asyn.tau = {}\".format(asyn.tau))"
   ]
  },
  {
   "cell_type": "code",
   "execution_count": 13,
   "id": "a244ac8c",
   "metadata": {},
   "outputs": [],
   "source": [
    "asyn.onset = 20\n",
    "asyn.gmax = 1"
   ]
  },
  {
   "cell_type": "code",
   "execution_count": 14,
   "id": "f16ae661",
   "metadata": {},
   "outputs": [
    {
     "name": "stdout",
     "output_type": "stream",
     "text": [
      "soma { nseg=1  L=100  Ra=35.4\n",
      "\t/*location 0 attached to cell 0*/\n",
      "\t/* First segment only */\n",
      "\tinsert morphology { diam=500}\n",
      "\tinsert capacitance { cm=1}\n",
      "\tinsert pas { g_pas=0.001 e_pas=-70}\n",
      "\tinsert AlphaSynapse { onset=20 tau=0.1 gmax=1 e=0}\n",
      "}\n"
     ]
    },
    {
     "data": {
      "text/plain": [
       "1.0"
      ]
     },
     "execution_count": 14,
     "metadata": {},
     "output_type": "execute_result"
    }
   ],
   "source": [
    "h.psection()"
   ]
  },
  {
   "cell_type": "code",
   "execution_count": 15,
   "id": "7904bf1a",
   "metadata": {},
   "outputs": [
    {
     "data": {
      "text/plain": [
       "Vector[4]"
      ]
     },
     "execution_count": 15,
     "metadata": {},
     "output_type": "execute_result"
    }
   ],
   "source": [
    "v_vec = h.Vector()             # Membrane potential vector\n",
    "t_vec = h.Vector()             # Time stamp vector\n",
    "v_vec.record(soma(0.5)._ref_v)\n",
    "t_vec.record(h._ref_t)"
   ]
  },
  {
   "cell_type": "code",
   "execution_count": 16,
   "id": "c994b1f1",
   "metadata": {},
   "outputs": [
    {
     "data": {
      "text/plain": [
       "0.0"
      ]
     },
     "execution_count": 16,
     "metadata": {},
     "output_type": "execute_result"
    }
   ],
   "source": [
    "h.tstop = 40.0\n",
    "h.run()"
   ]
  },
  {
   "cell_type": "code",
   "execution_count": 17,
   "id": "e0facae8",
   "metadata": {},
   "outputs": [
    {
     "data": {
      "text/plain": [
       "1.0"
      ]
     },
     "execution_count": 17,
     "metadata": {},
     "output_type": "execute_result"
    }
   ],
   "source": [
    "h.load_file('stdrun.hoc')"
   ]
  },
  {
   "cell_type": "code",
   "execution_count": 18,
   "id": "bc48ba65",
   "metadata": {},
   "outputs": [
    {
     "data": {
      "image/png": "[encoded data removed]",
      "text/plain": [
       "<Figure size 800x400 with 1 Axes>"
      ]
     },
     "metadata": {},
     "output_type": "display_data"
    }
   ],
   "source": [
    "from matplotlib import pyplot\n",
    "pyplot.figure(figsize=(8,4)) # Default figsize is (8,6)\n",
    "pyplot.plot(t_vec, v_vec)\n",
    "pyplot.xlabel('time (ms)')\n",
    "pyplot.ylabel('mV')\n",
    "pyplot.show()"
   ]
  },
  {
   "cell_type": "code",
   "execution_count": 19,
   "id": "09a33bf4",
   "metadata": {},
   "outputs": [],
   "source": [
    "# Pickle\n",
    "import pickle\n",
    "with open('t_vec.p', 'wb') as t_vec_file:\n",
    "    pickle.dump(t_vec, t_vec_file)\n",
    "with open('v_vec.p', 'wb') as v_vec_file:\n",
    "    pickle.dump(v_vec, v_vec_file)"
   ]
  },
  {
   "cell_type": "code",
   "execution_count": 20,
   "id": "d4dc5acc",
   "metadata": {},
   "outputs": [
    {
     "data": {
      "image/png": "[encoded data removed]",
      "text/plain": [
       "<Figure size 800x400 with 1 Axes>"
      ]
     },
     "metadata": {},
     "output_type": "display_data"
    }
   ],
   "source": [
    "from neuron import h, gui\n",
    "from matplotlib import pyplot\n",
    "import pickle\n",
    "\n",
    "# Unpickle\n",
    "with open('t_vec.p', 'rb') as t_vec_file:\n",
    "    t_vec = pickle.load(t_vec_file)\n",
    "with open('v_vec.p', 'rb') as vec_file:\n",
    "    v_vec = pickle.load(vec_file)\n",
    "\n",
    "# Confirm\n",
    "pyplot.figure(figsize=(8,4)) # Default figsize is (8,6)\n",
    "pyplot.plot(t_vec, v_vec)\n",
    "pyplot.xlabel('time (ms)')\n",
    "pyplot.ylabel('mV')\n",
    "pyplot.show()"
   ]
  },
  {
   "cell_type": "code",
   "execution_count": null,
   "id": "c05ef2a7",
   "metadata": {},
   "outputs": [],
   "source": []
  }
 ],
 "metadata": {
  "kernelspec": {
   "display_name": "Python 3 (ipykernel)",
   "language": "python",
   "name": "python3"
  },
  "language_info": {
   "codemirror_mode": {
    "name": "ipython",
    "version": 3
   },
   "file_extension": ".py",
   "mimetype": "text/x-python",
   "name": "python",
   "nbconvert_exporter": "python",
   "pygments_lexer": "ipython3",
   "version": "3.9.12"
  }
 },
 "nbformat": 4,
 "nbformat_minor": 5
}
