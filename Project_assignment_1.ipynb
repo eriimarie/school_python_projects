{
 "cells": [
  {
   "cell_type": "code",
   "execution_count": 31,
   "metadata": {},
   "outputs": [
    {
     "name": "stdout",
     "output_type": "stream",
     "text": [
      "Enter a number: 20\n"
     ]
    }
   ],
   "source": [
    "# question 9 \n",
    "#Write a Python program that prompts for a number. \n",
    "#Take that number, add 2, multiply by 3, subtract 6, and divide by 3. \n",
    "#You should get the number you started with.\n",
    "#Program perform arithmetic equation \n",
    "#prompts for a number that's called my_int\n",
    "my_int = input(\"Enter a number: \")"
   ]
  },
  {
   "cell_type": "code",
   "execution_count": 39,
   "metadata": {},
   "outputs": [],
   "source": [
    "#stored your enter value in a variable\n",
    "number = int(my_int)"
   ]
  },
  {
   "cell_type": "code",
   "execution_count": 46,
   "metadata": {},
   "outputs": [],
   "source": [
    "#use your given equation to your number\n",
    "x = ((((number + 2)*3)-6)/3)"
   ]
  },
  {
   "cell_type": "code",
   "execution_count": 48,
   "metadata": {},
   "outputs": [
    {
     "name": "stdout",
     "output_type": "stream",
     "text": [
      "20.0\n"
     ]
    }
   ],
   "source": [
    "# print the number\n",
    "print(x)"
   ]
  },
  {
   "cell_type": "code",
   "execution_count": 54,
   "metadata": {},
   "outputs": [
    {
     "name": "stdout",
     "output_type": "stream",
     "text": [
      "8\n"
     ]
    }
   ],
   "source": [
    "# question 11\n",
    "my_int = 5 # give a number to my_int\n",
    "my_int = my_int + 3 #add 3 to 5\n",
    "print(my_int) #print the results"
   ]
  },
  {
   "cell_type": "code",
   "execution_count": 1,
   "metadata": {},
   "outputs": [
    {
     "ename": "TypeError",
     "evalue": "can't multiply sequence by non-int of type 'str'",
     "output_type": "error",
     "traceback": [
      "\u001b[0;31m---------------------------------------------------------------------------\u001b[0m",
      "\u001b[0;31mTypeError\u001b[0m                                 Traceback (most recent call last)",
      "\u001b[0;32m/var/folders/pw/_mvnx9jn6214jddbkz2jg7yr0000gn/T/ipykernel_43095/3774514659.py\u001b[0m in \u001b[0;36m<module>\u001b[0;34m\u001b[0m\n\u001b[1;32m     13\u001b[0m \u001b[0;34m\u001b[0m\u001b[0m\n\u001b[1;32m     14\u001b[0m \u001b[0;31m# Evaluate the expression\u001b[0m\u001b[0;34m\u001b[0m\u001b[0;34m\u001b[0m\u001b[0m\n\u001b[0;32m---> 15\u001b[0;31m \u001b[0mprint\u001b[0m\u001b[0;34m(\u001b[0m\u001b[0;34m(\u001b[0m\u001b[0ma\u001b[0m \u001b[0;34m+\u001b[0m \u001b[0mb\u001b[0m\u001b[0;34m)\u001b[0m \u001b[0;34m*\u001b[0m \u001b[0mc\u001b[0m\u001b[0;34m)\u001b[0m\u001b[0;34m\u001b[0m\u001b[0;34m\u001b[0m\u001b[0m\n\u001b[0m\u001b[1;32m     16\u001b[0m \u001b[0;34m\u001b[0m\u001b[0m\n\u001b[1;32m     17\u001b[0m \u001b[0;34m\u001b[0m\u001b[0m\n",
      "\u001b[0;31mTypeError\u001b[0m: can't multiply sequence by non-int of type 'str'"
     ]
    }
   ],
   "source": [
    "# question 21\n",
    "#Consider the expression (a + b) * c, but with string values for a, b, and c. \n",
    "#Enter that into the Python shell. What happens? Why?\n",
    "\n",
    "#stored a string value for  a \n",
    "a = \"cake\"\n",
    "\n",
    "#stored a string value for b\n",
    "b = \"sweet\"\n",
    "\n",
    "#stored a string value for C\n",
    "c = \"pastry\" \n",
    "\n",
    "# Evaluate the expression\n",
    "print((a + b) * c)\n",
    "\n",
    "\n",
    "#When you only type (a+b*c) it give you an error because it said that you \n",
    "#can't multiply sequence by non-int \"str\" #because it is not a number \n",
    "#it is a string which it won't be able to multiple it. If you add a comma between b), C \n",
    "#the program will give you result spacing the last word. "
   ]
  },
  {
   "cell_type": "code",
   "execution_count": 2,
   "metadata": {},
   "outputs": [
    {
     "name": "stdout",
     "output_type": "stream",
     "text": [
      "2.0\n"
     ]
    }
   ],
   "source": [
    "#Given the following variable assignments: var_1 = 2.0\n",
    "           #var_2 = \"apple\"\n",
    "           #var_3 = 'orange'\n",
    "           #var_4 = 4\n",
    "#What is the output of each of the following print statements? If the statement does\n",
    "#not run, write ERROR and explain why.\n",
    "\n",
    "#a\n",
    "var_1 = 2.0\n",
    "print(var_1)\n",
    "\n",
    "#In problem a you are indicating the variable is  2.0 and \n",
    "#you are printing the results which give you 2.0 "
   ]
  },
  {
   "cell_type": "code",
   "execution_count": 3,
   "metadata": {},
   "outputs": [
    {
     "name": "stdout",
     "output_type": "stream",
     "text": [
      "apple\n"
     ]
    }
   ],
   "source": [
    "#b\n",
    "var_2 = \"apple\"\n",
    "print(var_2)\n",
    "\n",
    "#In problem b the indicating the variable is \"apple\" you are printing the results\n",
    "#which it wont give you in error it should give you apple at the end"
   ]
  },
  {
   "cell_type": "code",
   "execution_count": 4,
   "metadata": {},
   "outputs": [
    {
     "name": "stdout",
     "output_type": "stream",
     "text": [
      "orange\n"
     ]
    }
   ],
   "source": [
    "#c\n",
    "var_3 = 'orange'\n",
    "print(var_3)\n",
    "#Problem c the variable is equal to \"orange\" it will print the result \n",
    "#which it would be orange"
   ]
  },
  {
   "cell_type": "code",
   "execution_count": 8,
   "metadata": {},
   "outputs": [
    {
     "name": "stdout",
     "output_type": "stream",
     "text": [
      "0.5\n"
     ]
    }
   ],
   "source": [
    "#d\n",
    "var_4 = 4\n",
    "var_1 = 2.0\n",
    "print(var_1 / var_4)\n",
    "#In problem d the variable indicated to be 4 but this time you are \n",
    "#taking the variable of problem a divided them with problem d\n",
    "#the result should give you 0.5 since both variable are a number"
   ]
  },
  {
   "cell_type": "code",
   "execution_count": 9,
   "metadata": {},
   "outputs": [
    {
     "ename": "TypeError",
     "evalue": "unsupported operand type(s) for +: 'int' and 'str'",
     "output_type": "error",
     "traceback": [
      "\u001b[0;31m---------------------------------------------------------------------------\u001b[0m",
      "\u001b[0;31mTypeError\u001b[0m                                 Traceback (most recent call last)",
      "\u001b[0;32m/var/folders/pw/_mvnx9jn6214jddbkz2jg7yr0000gn/T/ipykernel_43095/1878497857.py\u001b[0m in \u001b[0;36m<module>\u001b[0;34m\u001b[0m\n\u001b[1;32m      3\u001b[0m \u001b[0mvar_4\u001b[0m \u001b[0;34m=\u001b[0m \u001b[0;36m4\u001b[0m\u001b[0;34m\u001b[0m\u001b[0;34m\u001b[0m\u001b[0m\n\u001b[1;32m      4\u001b[0m \u001b[0mvar_3\u001b[0m \u001b[0;34m=\u001b[0m \u001b[0;34m'orange'\u001b[0m\u001b[0;34m\u001b[0m\u001b[0;34m\u001b[0m\u001b[0m\n\u001b[0;32m----> 5\u001b[0;31m \u001b[0mprint\u001b[0m\u001b[0;34m(\u001b[0m\u001b[0mvar_4\u001b[0m \u001b[0;34m+\u001b[0m \u001b[0mvar_3\u001b[0m\u001b[0;34m)\u001b[0m\u001b[0;34m\u001b[0m\u001b[0;34m\u001b[0m\u001b[0m\n\u001b[0m\u001b[1;32m      6\u001b[0m \u001b[0;34m\u001b[0m\u001b[0m\n\u001b[1;32m      7\u001b[0m \u001b[0;31m#In problem e the variable\u001b[0m\u001b[0;34m\u001b[0m\u001b[0;34m\u001b[0m\u001b[0m\n",
      "\u001b[0;31mTypeError\u001b[0m: unsupported operand type(s) for +: 'int' and 'str'"
     ]
    }
   ],
   "source": [
    "#e\n",
    "\n",
    "var_4 = 4\n",
    "var_3 = 'orange'\n",
    "print(var_4 + var_3)\n",
    "\n",
    "#In problem e both variable can't be combined because they are different\n",
    "#that's why you get an error, \n",
    "#it is unsupported operand type(s) for +: 'int' and 'str'"
   ]
  },
  {
   "cell_type": "code",
   "execution_count": 74,
   "metadata": {},
   "outputs": [
    {
     "name": "stdout",
     "output_type": "stream",
     "text": [
      "appleorange\n"
     ]
    }
   ],
   "source": [
    "#f\n",
    "var_2 = \"apple\"\n",
    "var_3 = 'orange'\n",
    "print(var_2 + var_3)\n",
    "\n",
    "#In problem f both variables are the same so you won't get an error \n",
    "#when printing the results. "
   ]
  },
  {
   "cell_type": "code",
   "execution_count": null,
   "metadata": {},
   "outputs": [],
   "source": []
  }
 ],
 "metadata": {
  "kernelspec": {
   "display_name": "Python 3 (ipykernel)",
   "language": "python",
   "name": "python3"
  },
  "language_info": {
   "codemirror_mode": {
    "name": "ipython",
    "version": 3
   },
   "file_extension": ".py",
   "mimetype": "text/x-python",
   "name": "python",
   "nbconvert_exporter": "python",
   "pygments_lexer": "ipython3",
   "version": "3.9.7"
  }
 },
 "nbformat": 4,
 "nbformat_minor": 4
}
