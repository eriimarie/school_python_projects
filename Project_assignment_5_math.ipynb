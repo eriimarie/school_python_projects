{
 "cells": [
  {
   "cell_type": "code",
   "execution_count": 18,
   "id": "6cfc2366",
   "metadata": {},
   "outputs": [
    {
     "name": "stdout",
     "output_type": "stream",
     "text": [
      "All three digit number divisible by 17:   [102, 119, 136, 153, 170, 187, 204, 221, 238, 255, 272, 289, 306, 323, 340, 357, 374, 391, 408, 425, 442, 459, 476, 493, 510, 527, 544, 561, 578, 595, 612, 629, 646, 663, 680, 697, 714, 731, 748, 765, 782, 799, 816, 833, 850, 867, 884, 901, 918, 935, 952, 969, 986]\n",
      "the total number divisible by 17:   53\n"
     ]
    }
   ],
   "source": [
    "#question 1\n",
    "#1. How many three-digit numbers are divisible by 17? Write a program to print them.\n",
    "\n",
    "#(a) list the numbers divisible by 17  called it list_number_divisible\n",
    "#(b)find a number that range between (100,999)that is divisible by 17\n",
    "#(c) create an if statement that give you the result with no reminder\n",
    "#(d) print out all the three digital number divisible by 17\n",
    "#(e) count all the number divisible by 17 with three digit number\n",
    "\n",
    "list_numbers_divisible = []\n",
    "\n",
    "for numbers in range(100, 999):\n",
    "    \n",
    "   if numbers % 17 == 0:\n",
    "\n",
    "        list_numbers_divisible.append(numbers)\n",
    "        \n",
    "print(\"All three digit number divisible by 17:  \" ,list_numbers_divisible)       \n",
    "print( \"the total number divisible by 17:  \",len(list_numbers_divisible))\n",
    "\n",
    "\n",
    "\n",
    "\n",
    "\n",
    "\n",
    "\n",
    "\n",
    " "
   ]
  },
  {
   "cell_type": "code",
   "execution_count": 1,
   "id": "6f46646e",
   "metadata": {
    "scrolled": true
   },
   "outputs": [
    {
     "name": "stdout",
     "output_type": "stream",
     "text": [
      "pbil"
     ]
    }
   ],
   "source": [
    "#question 6\n",
    "#Write a “for” loop that will print ‘pbil’ when ‘alphabetical’ is the input.\n",
    "\n",
    "#(a) assigned a variable to 'alphabetical\" called it T_T\n",
    "#(b)write a for loop to iterate over range starting from 2 up to length of the string.\n",
    "#sequence 2 5 8 11\n",
    "#(c)write an if statement that indicated the index is divisible by 3 and remainder is 2 \n",
    "#(D) print the the alphabet with the above sequence 2, 5, 8, 11 result pbil \n",
    "#A=0 L=1 P=2 H=3 A=4 B=5 E=6 T=7 I=8 C=9 A=10 L=11\n",
    "\n",
    "\n",
    "T_T = 'alphabetical'   \n",
    "for x in range(2, len(T_T)):    \n",
    "    if x%3 == 2:                 \n",
    "        print(T_T[x], end='')    \n",
    "\n",
    "\n",
    "    \n",
    "\n"
   ]
  },
  {
   "cell_type": "code",
   "execution_count": 16,
   "id": "d7eaad12",
   "metadata": {},
   "outputs": [
    {
     "name": "stdout",
     "output_type": "stream",
     "text": [
      "10\n",
      "0\n"
     ]
    }
   ],
   "source": [
    "#question 11\n",
    "#Predict the outcome of each line:\n",
    "i=1 #assigned i to 1\n",
    "j=0 #assigned j to 0\n",
    "while i<10: # Starts while loop if the condition(i<10) is True.\n",
    "    i+=1   # assigned i to i + 1 this increases by 1\n",
    "    j+2*2  # j is not assigned to anything in this line doesn't work unless you add =\n",
    "            #it is not useful in the way its written. / Does not change j's value.\n",
    "print(i) #Line 1 this will print the resul of i which will give you 10 \n",
    "print(j) #Line 2 this will print the result of j this is will give you 0 \n",
    "\n",
    " \n",
    "        "
   ]
  },
  {
   "cell_type": "code",
   "execution_count": null,
   "id": "c9e0df07",
   "metadata": {},
   "outputs": [],
   "source": []
  },
  {
   "cell_type": "code",
   "execution_count": null,
   "id": "a3d2fd09",
   "metadata": {},
   "outputs": [],
   "source": []
  },
  {
   "cell_type": "code",
   "execution_count": null,
   "id": "616bad83",
   "metadata": {},
   "outputs": [],
   "source": []
  }
 ],
 "metadata": {
  "kernelspec": {
   "display_name": "Python 3 (ipykernel)",
   "language": "python",
   "name": "python3"
  },
  "language_info": {
   "codemirror_mode": {
    "name": "ipython",
    "version": 3
   },
   "file_extension": ".py",
   "mimetype": "text/x-python",
   "name": "python",
   "nbconvert_exporter": "python",
   "pygments_lexer": "ipython3",
   "version": "3.9.7"
  }
 },
 "nbformat": 4,
 "nbformat_minor": 5
}
